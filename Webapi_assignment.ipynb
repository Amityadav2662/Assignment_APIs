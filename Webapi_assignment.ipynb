{
 "cells": [
  {
   "cell_type": "code",
   "execution_count": null,
   "id": "6eef67b8-50e0-4c6b-9480-4649cd238725",
   "metadata": {},
   "outputs": [],
   "source": [
    "# Q1. What is an API? Give an example, where an API is used in real life.\n",
    "Ans.\n",
    "An API (Application Programming Interface) is a set of rules and protocols that allows different software applications\n",
    "to communicate and interact with each other.\n",
    "\n",
    "Example: One real-life example of API usage is when you use a weather application on your smartphone. The weather app fetches\n",
    "weather data from a weather service provider through an API. The app sends a request to the API with the desired location, and\n",
    "the API responds with the weather data, which the app then displays to the user."
   ]
  },
  {
   "cell_type": "code",
   "execution_count": null,
   "id": "8cf79cbf-4de9-4931-adf0-eb9f7e90647f",
   "metadata": {},
   "outputs": [],
   "source": [
    "# Q2. Give advantages and disadvantages of using API.\n",
    "Ans.\n",
    "Advantages of using API:\n",
    "a.Encapsulation: APIs abstract the complexity of underlying systems, allowing developers to interact with them using\n",
    "simplified methods.\n",
    "b.Reusability: APIs enable code reuse by providing standardized interfaces, reducing the effort required to build new \n",
    "applications.\n",
    "c.Scalability: APIs allow for the integration of different systems and services, facilitating the creation of scalable \n",
    "and robust applications.\n",
    "\n",
    "Disadvantages of using API:\n",
    "a.Dependency: Applications relying heavily on external APIs may experience issues if the API is unavailable, experiences downtime,\n",
    "or changes its functionality.\n",
    "b.Versioning: APIs can evolve and change over time, requiring developers to adapt their code to new versions or deprecations.\n",
    "c.Security Risks: If not properly secured, APIs can be vulnerable to attacks or unauthorized access, leading to data breaches or\n",
    "service disruptions."
   ]
  },
  {
   "cell_type": "code",
   "execution_count": null,
   "id": "9047a262-ecb2-4c76-8bf8-de3c10c8c779",
   "metadata": {},
   "outputs": [],
   "source": [
    "# Q3. What is a Web API? Differentiate between API and Web API. \n",
    "Ans.\n",
    "A Web API is an API that is specifically designed to be accessed over the web using HTTP protocols. It allows applications\n",
    "to interact with web services and retrieve or manipulate data.\n",
    "\n",
    "Difference between API and Web API:\n",
    "a.API: An API can refer to any set of rules and protocols that enable communication between software applications, regardless\n",
    "of the communication medium (e.g., web, database, operating system).\n",
    "\n",
    "b.Web API: A Web API specifically refers to APIs that are accessed over the web using standard web protocols, typically HTTP(S).\n",
    "Web APIs are commonly used for integrating with web services and retrieving data over the internet."
   ]
  },
  {
   "cell_type": "code",
   "execution_count": null,
   "id": "853c0a00-a937-49f6-a20a-2b621835672e",
   "metadata": {},
   "outputs": [],
   "source": [
    "# Q4. Explain REST and SOAP Architecture. Mention shortcomings of SOAP.\n",
    "Ans.\n",
    "REST (Representational State Transfer) and SOAP (Simple Object Access Protocol) are two architectural styles used for\n",
    "designing web services.\n",
    "\n",
    "REST Architecture:\n",
    "1. REST is an architectural style that uses standard HTTP methods (GET, POST, PUT, DELETE) to interact with resources on the web.\n",
    "2. RESTful APIs use resource-based URLs and support multiple data formats, such as JSON and XML.\n",
    "3. It is lightweight, scalable, and widely adopted for building web APIs.\n",
    "\n",
    "SOAP Architecture:\n",
    "1. SOAP is a protocol that defines a set of rules for exchanging structured information in web services using XML.\n",
    "2. It relies on a standardized XML-based message format and often uses the HTTP protocol for transport.\n",
    "3. SOAP APIs use a contract-based approach, where the interface is defined in a Web Services Description Language (WSDL) document.\n",
    "\n",
    "Shortcomings of SOAP:\n",
    "\n",
    "1.Complexity: SOAP can be more complex to implement and understand due to its extensive specification and XML-based messaging format.\n",
    "2.Overhead: SOAP messages tend to be larger in size compared to REST, which can result in higher bandwidth usage and slower performance.\n",
    "3.Limited language support: While SOAP can be used with various programming languages, it is typically more tightly coupled \n",
    "with languages like Java and .NET."
   ]
  },
  {
   "cell_type": "code",
   "execution_count": null,
   "id": "d6c3ad1c-4a32-4502-b6af-2e76806ad30a",
   "metadata": {},
   "outputs": [],
   "source": [
    "# Q5. Differentiate between REST and SOAP.\n",
    "Ans.\n",
    "1.Architectural Style: REST is an architectural style, while SOAP is a protocol.\n",
    "2.Messaging Format: REST primarily uses lightweight data formats like JSON or XML, whereas SOAP uses XML for message exchange.\n",
    "3.Transport Protocol: REST typically uses HTTP(S) as the transport protocol, while SOAP can use various protocols including\n",
    "HTTP, SMTP, and more.\n",
    "4.Interface Definition: REST APIs often rely on self-descriptive resource-based URLs, while SOAP APIs use a contract-based\n",
    "approach defined by a WSDL document.\n",
    "5.State Management: REST is stateless, meaning no client context is stored on the server between requests, while SOAP supports\n",
    "stateful communication."
   ]
  }
 ],
 "metadata": {
  "kernelspec": {
   "display_name": "Python 3 (ipykernel)",
   "language": "python",
   "name": "python3"
  },
  "language_info": {
   "codemirror_mode": {
    "name": "ipython",
    "version": 3
   },
   "file_extension": ".py",
   "mimetype": "text/x-python",
   "name": "python",
   "nbconvert_exporter": "python",
   "pygments_lexer": "ipython3",
   "version": "3.10.8"
  }
 },
 "nbformat": 4,
 "nbformat_minor": 5
}
